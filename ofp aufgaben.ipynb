{
 "cells": [
  {
   "cell_type": "markdown",
   "metadata": {},
   "source": [
    "## gerade Zahlen"
   ]
  },
  {
   "cell_type": "code",
   "execution_count": 2,
   "metadata": {},
   "outputs": [
    {
     "name": "stdout",
     "output_type": "stream",
     "text": [
      "3\n"
     ]
    }
   ],
   "source": [
    "from functools import reduce\n",
    "zahlen = [2,5,7,12,534,23,893]\n",
    "gerade_zahlen = lambda x : reduce(lambda x1,x2: x1 + 1 ,filter(lambda y: y%2 == 0,x),0)\n",
    "print(gerade_zahlen(zahlen))"
   ]
  },
  {
   "cell_type": "markdown",
   "metadata": {},
   "source": [
    "## Curry"
   ]
  },
  {
   "cell_type": "code",
   "execution_count": 12,
   "metadata": {},
   "outputs": [
    {
     "name": "stdout",
     "output_type": "stream",
     "text": [
      "12\n"
     ]
    }
   ],
   "source": [
    "new_added = lambda a,b,c: a+b+c\n",
    "curry = lambda f,k : lambda *args,**kwargs: f(k, *args,**kwargs)\n",
    "output=curry(new_added,5)\n",
    "print(output(c=3,b=4))\n"
   ]
  },
  {
   "cell_type": "markdown",
   "metadata": {},
   "source": [
    "## mein Filter (mit Reduce)"
   ]
  },
  {
   "cell_type": "code",
   "execution_count": 50,
   "metadata": {},
   "outputs": [
    {
     "data": {
      "text/plain": [
       "[521, 231]"
      ]
     },
     "execution_count": 50,
     "metadata": {},
     "output_type": "execute_result"
    }
   ],
   "source": [
    "meine_liste = [11,32,521,231]\n",
    "mein_filter = lambda liste ,f: reduce(lambda x1,x2: x1 + [x2] if f(x2) else x1, liste, [])\n",
    "mein_filter(meine_liste, lambda x: x >100)"
   ]
  },
  {
   "cell_type": "markdown",
   "metadata": {},
   "source": [
    "## Aufgabe 1\n",
    "Mit dem Gleichen Input hat die Funktion immmer den gleichen Output. Somit könnte man die fibonnaci funktion auch mehrmals aufrufen und die Variable cnt ist bei gleichem Input immer gleich. "
   ]
  },
  {
   "cell_type": "code",
   "execution_count": 33,
   "metadata": {},
   "outputs": [
    {
     "data": {
      "text/plain": [
       "(5, 15)"
      ]
     },
     "execution_count": 33,
     "metadata": {},
     "output_type": "execute_result"
    }
   ],
   "source": [
    "def fibonacci_rec(n: int,cnt=0):\n",
    "    cnt += 1\n",
    "    if n <= 1:\n",
    "        return n, cnt\n",
    "    else:\n",
    "        f1,cnt = fibonacci_rec(n - 1,cnt) \n",
    "        f2,cnt = fibonacci_rec(n - 2,cnt)\n",
    "        return f1+f2, cnt\n",
    "\n",
    "fibonacci_rec(5)"
   ]
  },
  {
   "cell_type": "code",
   "execution_count": 32,
   "metadata": {},
   "outputs": [
    {
     "name": "stdout",
     "output_type": "stream",
     "text": [
      "(5, 15)\n"
     ]
    }
   ],
   "source": [
    "def fibonacci_rec(n: int):\n",
    "    if n > 1:\n",
    "        f1,cnt1 = fibonacci_rec(n - 1)\n",
    "        f2,cnt2 = fibonacci_rec(n - 2)\n",
    "        return f1+f2,cnt1 + cnt2  +1\n",
    "    else:\n",
    "        return n, 1\n",
    "\n",
    "print(fibonacci_rec(5))\n"
   ]
  },
  {
   "cell_type": "code",
   "execution_count": 66,
   "metadata": {},
   "outputs": [
    {
     "data": {
      "text/plain": [
       "39909473435004422792081248094960912600792570982820257852628876326523051818641373433549136769424132442293969306537520118273879628025443235370362250955435654171592897966790864814458223141914272590897468472180370639695334449662650312874735560926298246249404168309064214351044459077749425236777660809226095151852052781352975449482565838369809183771787439660825140502824343131911711296392457138867486593923544177893735428602238212249156564631452507658603400012003685322984838488962351492632577755354452904049241294565662519417235020049873873878602731379207893212335423484873469083054556329894167262818692599815209582517277965059068235543139459375028276851221435815957374273143824422909416395375178739268544368126894240979135322176080374780998010657710775625856041594078495411724236560242597759185543824798332467919613598667003025993715274875"
      ]
     },
     "execution_count": 66,
     "metadata": {},
     "output_type": "execute_result"
    }
   ],
   "source": [
    "def fibonacci_rec(n: int,dic= {}) -> int:\n",
    "    if n <= 1 :\n",
    "        return n\n",
    "    if n-2 not in dic.keys():\n",
    "            dic[n-2] = fibonacci_rec(n-2,dic)\n",
    "    if n-1 not in dic.keys():\n",
    "            dic[n-1] = fibonacci_rec(n-1,dic)\n",
    "    return dic[n-1] + dic[n-2]\n",
    "\n",
    "fibonacci_rec(4000)"
   ]
  },
  {
   "cell_type": "code",
   "execution_count": 20,
   "metadata": {},
   "outputs": [],
   "source": [
    "def fibonacci_rec(n: int,dic= {0:0,1:1}) -> int:\n",
    "    if n in dic.keys():\n",
    "        return dic[n]\n",
    "    dic[n-1] = fibonacci_rec(n-1,dic)\n",
    "    return dic[n-1] + dic[n-2]\n",
    "\n",
    "fibonacci_rec(4000)"
   ]
  },
  {
   "cell_type": "code",
   "execution_count": 5,
   "metadata": {},
   "outputs": [
    {
     "name": "stdout",
     "output_type": "stream",
     "text": [
      "21.313708498984756\n"
     ]
    }
   ],
   "source": [
    "a=1+ (2)**(1/2)\n",
    "print(a**4-(2*a**2)-1)"
   ]
  },
  {
   "cell_type": "code",
   "execution_count": 15,
   "metadata": {},
   "outputs": [
    {
     "data": {
      "text/plain": [
       "(354224848179261915075, 100)"
      ]
     },
     "execution_count": 15,
     "metadata": {},
     "output_type": "execute_result"
    }
   ],
   "source": [
    "def fibonacci_rec(n: int,dic= {0:0,1:1},c= 0) -> int:\n",
    "    c+=1\n",
    "    if n in dic:\n",
    "        return dic[n],c\n",
    "    dic[n-1],c = fibonacci_rec(n-1,dic,c)\n",
    "    return dic[n-1] + dic[n-2],c\n",
    "\n",
    "fibonacci_rec(100)"
   ]
  },
  {
   "cell_type": "code",
   "execution_count": 5,
   "metadata": {},
   "outputs": [
    {
     "data": {
      "text/plain": [
       "43466557686937456435688527675040625802564660517371780402481729089536555417949051890403879840079255169295922593080322634775209689623239873322471161642996440906533187938298969649928516003704476137795166849228875"
      ]
     },
     "execution_count": 5,
     "metadata": {},
     "output_type": "execute_result"
    }
   ],
   "source": [
    "import functools\n",
    "@functools.cache\n",
    "def fibonacci_rec(n: int) -> int:\n",
    "    return n if n <= 1 else fibonacci_rec(n - 1) + fibonacci_rec(n - 2)\n",
    "fibonacci_rec(1000)"
   ]
  },
  {
   "cell_type": "code",
   "execution_count": 20,
   "metadata": {},
   "outputs": [],
   "source": [
    "def my_cache(func):\n",
    "    dic = {}\n",
    "    def wrapped(*args,**kwargs):\n",
    "        if args not in dic.keys():\n",
    "            dic[args] = func(*args,**kwargs)  \n",
    "        return dic[args]\n",
    "    return wrapped"
   ]
  },
  {
   "cell_type": "code",
   "execution_count": 22,
   "metadata": {},
   "outputs": [
    {
     "name": "stdout",
     "output_type": "stream",
     "text": [
      "54877108839480000051413673948383714443800519309123592724494953427039811201064341234954387521525390615504949092187441218246679104731442473022013980160407007017175697317900483275246652938800\n"
     ]
    }
   ],
   "source": [
    "@my_cache\n",
    "def fibonacci_rec(n: int) -> int:\n",
    "    return n if n <= 1 else fibonacci_rec(n - 1) + fibonacci_rec(n - 2)\n",
    "print(fibonacci_rec(900))"
   ]
  },
  {
   "cell_type": "code",
   "execution_count": 35,
   "metadata": {},
   "outputs": [
    {
     "name": "stdout",
     "output_type": "stream",
     "text": [
      "88\n"
     ]
    }
   ],
   "source": [
    "def fibonacci_generator(n):\n",
    "    x1 = 1\n",
    "    x2 = 0\n",
    "    while n != 0:\n",
    "        yield x2\n",
    "        x2,x1 = x1 + x2 , x2\n",
    "        n -= 1\n",
    "\n",
    "def fib_sum_2(n: int) -> int:\n",
    "    return sum(f for f in fibonacci_generator(n))\n",
    "\n",
    "print(fib_sum_2(10))"
   ]
  },
  {
   "cell_type": "code",
   "execution_count": 3,
   "metadata": {},
   "outputs": [
    {
     "name": "stdout",
     "output_type": "stream",
     "text": [
      "21956\n"
     ]
    },
    {
     "data": {
      "text/plain": [
       "0"
      ]
     },
     "execution_count": 3,
     "metadata": {},
     "output_type": "execute_result"
    }
   ],
   "source": [
    "def squares_of_even_fibonacci(n):\n",
    "    sum = 0\n",
    "    for x in fibonacci_generator(n):\n",
    "        if x % 2 == 0:\n",
    "            sum += x **2\n",
    "    return sum\n",
    "print(squares_of_even_fibonacci(10))\n",
    "\n",
    "sum_of_even = lambda x: sum(y**2 for y in fibonacci_generator(x) if y %2 == 0)\n",
    "\n",
    "sum_of_even(1)"
   ]
  },
  {
   "cell_type": "code",
   "execution_count": 39,
   "metadata": {},
   "outputs": [
    {
     "data": {
      "text/plain": [
       "3"
      ]
     },
     "execution_count": 39,
     "metadata": {},
     "output_type": "execute_result"
    }
   ],
   "source": [
    "def fib_imperativ(n,x1 = 1, x2=0):\n",
    "    if n != 0:\n",
    "        x2 = fib_imperativ(n-1, x2, x1 + x2)\n",
    "    return  x2\n",
    "\n",
    "fib_imperativ(4)"
   ]
  },
  {
   "cell_type": "markdown",
   "metadata": {},
   "source": [
    "## Aufgabe 10\n",
    "Mit allen die rekursiv berechnet werden ohne Speicher. Da dann der Arbeitsaufwand exponentiell ansteigt. Oder auch wenn das Kernel abstürzt (Bei cache Lösung)"
   ]
  },
  {
   "cell_type": "code",
   "execution_count": 47,
   "metadata": {},
   "outputs": [
    {
     "data": {
      "text/plain": [
       "3"
      ]
     },
     "execution_count": 47,
     "metadata": {},
     "output_type": "execute_result"
    }
   ],
   "source": [
    "def recur(*args, **kwargs) -> (callable, any):\n",
    "    return recur, args, kwargs\n",
    "\n",
    "def loop(f: callable):\n",
    "    a = f()\n",
    "    while isinstance(a, tuple) and a[0] is recur:       \n",
    "        a = f(*a[1], **a[2])\n",
    "    return a\n",
    "\n",
    "\n",
    "def func_fib_2(n):\n",
    "    def loop_func(x1=1,x2=0,m =n):\n",
    "        if m == 0:\n",
    "            return x2\n",
    "        else:\n",
    "            return recur(x2,x1 +x2, m-1)\n",
    "    return loop(loop_func)\n",
    "\n",
    "func_fib_2(4)"
   ]
  }
 ],
 "metadata": {
  "interpreter": {
   "hash": "d3732d19857c6671c2efe82d18154d5d292f1f377c5bc5796aa25030f4cbbe8b"
  },
  "kernelspec": {
   "display_name": "Python 3.9.10 64-bit (windows store)",
   "language": "python",
   "name": "python3"
  },
  "language_info": {
   "codemirror_mode": {
    "name": "ipython",
    "version": 3
   },
   "file_extension": ".py",
   "mimetype": "text/x-python",
   "name": "python",
   "nbconvert_exporter": "python",
   "pygments_lexer": "ipython3",
   "version": "3.9.11"
  },
  "orig_nbformat": 4
 },
 "nbformat": 4,
 "nbformat_minor": 2
}
