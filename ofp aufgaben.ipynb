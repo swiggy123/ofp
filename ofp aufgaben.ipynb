{
 "cells": [
  {
   "cell_type": "markdown",
   "metadata": {},
   "source": [
    "## gerade Zahlen"
   ]
  },
  {
   "cell_type": "code",
   "execution_count": 4,
   "metadata": {},
   "outputs": [
    {
     "name": "stdout",
     "output_type": "stream",
     "text": [
      "3\n"
     ]
    }
   ],
   "source": [
    "from functools import reduce\n",
    "zahlen = [2,5,7,12,534,23,893]\n",
    "gerade_zahlen = lambda x : reduce(lambda x1,x2: x1 + 1 ,filter(lambda y: y%2 == 0,x),0)\n",
    "print(gerade_zahlen(zahlen))"
   ]
  },
  {
   "cell_type": "markdown",
   "metadata": {},
   "source": [
    "## Curry"
   ]
  },
  {
   "cell_type": "code",
   "execution_count": 55,
   "metadata": {},
   "outputs": [
    {
     "name": "stdout",
     "output_type": "stream",
     "text": [
      "14\n"
     ]
    }
   ],
   "source": [
    "new_added = lambda *args: sum(args)\n",
    "def curry(f, k): \n",
    "    return lambda *args: f(k, *args)\n",
    "output=curry(new_added,5)\n",
    "print(output(2,3,4))\n",
    "\n",
    "\n"
   ]
  },
  {
   "cell_type": "markdown",
   "metadata": {},
   "source": [
    "## mein Filter (mit Reduce)"
   ]
  },
  {
   "cell_type": "code",
   "execution_count": 50,
   "metadata": {},
   "outputs": [
    {
     "data": {
      "text/plain": [
       "[521, 231]"
      ]
     },
     "execution_count": 50,
     "metadata": {},
     "output_type": "execute_result"
    }
   ],
   "source": [
    "meine_liste = [11,32,521,231]\n",
    "mein_filter = lambda liste ,f: reduce(lambda x1,x2: x1 + [x2] if f(x2) else x1, liste, [])\n",
    "mein_filter(meine_liste, lambda x: x >100)"
   ]
  },
  {
   "cell_type": "markdown",
   "metadata": {},
   "source": [
    "## Aufgabe 1\n",
    "Mit dem Gleichen Input hat die Funktion immmer den gleichen Output. Somit könnte man die fibonnaci funktion auch mehrmals aufrufen und die Variable cnt ist bei gleichem Input immer gleich. "
   ]
  },
  {
   "cell_type": "code",
   "execution_count": 6,
   "metadata": {},
   "outputs": [
    {
     "name": "stdout",
     "output_type": "stream",
     "text": [
      "1597 5167\n"
     ]
    }
   ],
   "source": [
    "\n",
    "def fibonacci_rec(n: int,cnt):\n",
    "    cnt = 1\n",
    "    if n <= 1:\n",
    "        return n,cnt*2\n",
    "    else:\n",
    "        f1= fibonacci_rec(n - 1,cnt) \n",
    "        f2= fibonacci_rec(n - 2,cnt)\n",
    "        return f1[0]+ f2[0], f1[1]+f2[1]\n",
    "\n",
    "fib = fibonacci_rec(17,0)\n",
    "print(fib[0],fib[1]-1)\n"
   ]
  },
  {
   "cell_type": "code",
   "execution_count": 46,
   "metadata": {},
   "outputs": [
    {
     "data": {
      "text/plain": [
       "(55, 177)"
      ]
     },
     "execution_count": 46,
     "metadata": {},
     "output_type": "execute_result"
    }
   ],
   "source": [
    "\n",
    "def fibonacci_rec(n: int,cnt=0):\n",
    "    cnt += 1\n",
    "    if n <= 1:\n",
    "        return n, cnt\n",
    "    else:\n",
    "        f1,cnt = fibonacci_rec(n - 1,cnt) \n",
    "        f2,cnt2 = fibonacci_rec(n - 2,cnt)\n",
    "        return f1+f2, cnt2\n",
    "\n",
    "fibonacci_rec(10,0)\n"
   ]
  },
  {
   "cell_type": "code",
   "execution_count": 25,
   "metadata": {},
   "outputs": [
    {
     "name": "stdout",
     "output_type": "stream",
     "text": [
      "610 1973\n"
     ]
    }
   ],
   "source": [
    "cnt = 0\n",
    "def fibonacci_rec_cnt(n: int) -> int:\n",
    "    global cnt\n",
    "    cnt += 1\n",
    "    return n if n <= 1 else fibonacci_rec_cnt(n - 1) + fibonacci_rec_cnt(n - 2)\n",
    "print(fibonacci_rec_cnt(15), cnt)"
   ]
  },
  {
   "cell_type": "code",
   "execution_count": 3,
   "metadata": {},
   "outputs": [
    {
     "data": {
      "text/plain": [
       "39909473435004422792081248094960912600792570982820257852628876326523051818641373433549136769424132442293969306537520118273879628025443235370362250955435654171592897966790864814458223141914272590897468472180370639695334449662650312874735560926298246249404168309064214351044459077749425236777660809226095151852052781352975449482565838369809183771787439660825140502824343131911711296392457138867486593923544177893735428602238212249156564631452507658603400012003685322984838488962351492632577755354452904049241294565662519417235020049873873878602731379207893212335423484873469083054556329894167262818692599815209582517277965059068235543139459375028276851221435815957374273143824422909416395375178739268544368126894240979135322176080374780998010657710775625856041594078495411724236560242597759185543824798332467919613598667003025993715274875"
      ]
     },
     "execution_count": 3,
     "metadata": {},
     "output_type": "execute_result"
    }
   ],
   "source": [
    "def fibonacci_rec(n: int,dic= {}) -> int:\n",
    "    if n <= 1 :\n",
    "        return n\n",
    "    \n",
    "    if n-2 not in dic.keys():\n",
    "            dic[n-2] = fibonacci_rec(n-2,dic)\n",
    "    if n-1 not in dic.keys():\n",
    "            dic[n-1] = fibonacci_rec(n-1,dic)\n",
    "    return dic[n-1] + dic[n-2]\n",
    "\n",
    "fibonacci_rec(4000)"
   ]
  },
  {
   "cell_type": "code",
   "execution_count": 40,
   "metadata": {},
   "outputs": [
    {
     "data": {
      "text/plain": [
       "(610, 16)"
      ]
     },
     "execution_count": 40,
     "metadata": {},
     "output_type": "execute_result"
    }
   ],
   "source": [
    "def fibonacci_rec(n: int,cnt= 0, dic= {}) -> int:\n",
    "    cnt +=1\n",
    "    if n <= 1 :\n",
    "        return n,cnt\n",
    "    if n-2 not in dic.keys():\n",
    "            dic[n-2],cnt = fibonacci_rec(n-2,cnt,dic)\n",
    "    if n-1 not in dic.keys():\n",
    "            dic[n-1],cnt = fibonacci_rec(n-1,cnt,dic)\n",
    "    return dic[n-1] + dic[n-2],cnt  \n",
    "\n",
    "fibonacci_rec(15)"
   ]
  },
  {
   "cell_type": "code",
   "execution_count": 54,
   "metadata": {},
   "outputs": [
    {
     "data": {
      "text/plain": [
       "21599680283161715807847052066540433422883515772119658063766498972503219104278316186542706552263614678844605521205471865945806520838603391933189946547621953603163789045147079719349493433360218263689302235202664706161893962580201172846238976101277970849319269574650368333475"
      ]
     },
     "execution_count": 54,
     "metadata": {},
     "output_type": "execute_result"
    }
   ],
   "source": [
    "import functools\n",
    "@functools.cache\n",
    "def fibonacci_rec(n: int) -> int:\n",
    "    return n if n <= 1 else fibonacci_rec(n - 1) + fibonacci_rec(n - 2)\n",
    "fibonacci_rec(1300)"
   ]
  },
  {
   "cell_type": "code",
   "execution_count": 1,
   "metadata": {},
   "outputs": [],
   "source": [
    "dic = {}\n",
    "def my_cache(func):\n",
    "    def wrapped(*args):\n",
    "        global dic\n",
    "        if args not in dic.keys() :\n",
    "            dic[args] = func(*args)    \n",
    "        return dic[args]\n",
    "    return wrapped"
   ]
  },
  {
   "cell_type": "code",
   "execution_count": 3,
   "metadata": {},
   "outputs": [
    {
     "data": {
      "text/plain": [
       "139423224561697880139724382870407283950070256587697307264108962948325571622863290691557658876222521294125"
      ]
     },
     "execution_count": 3,
     "metadata": {},
     "output_type": "execute_result"
    }
   ],
   "source": [
    "@my_cache\n",
    "def fibonacci_rec(n: int) -> int:\n",
    "    return n if n <= 1 else fibonacci_rec(n - 1) + fibonacci_rec(n - 2)\n",
    "fibonacci_rec(500)\n"
   ]
  },
  {
   "cell_type": "code",
   "execution_count": 44,
   "metadata": {},
   "outputs": [
    {
     "name": "stdout",
     "output_type": "stream",
     "text": [
      "16\n",
      "16\n"
     ]
    }
   ],
   "source": [
    "def fibonacci_generator(n = -2):\n",
    "    x1 = 1\n",
    "    x2 = 2\n",
    "    n +=1\n",
    "    while n <0 or n> 0:\n",
    "        yield x1 + x2\n",
    "        x2,x1 = x1 + x2 , x2\n",
    "        n -= 1\n",
    "\n",
    "\n",
    "def fib_sum_1(n: int) -> int:\n",
    "    sum_ = 0\n",
    "    for i, f in enumerate(fibonacci_generator()):\n",
    "        sum_ += f\n",
    "        if i == n:\n",
    "            break\n",
    "    return sum_\n",
    "print(fib_sum_1(2))\n",
    "\n",
    "def fib_sum_2(n: int) -> int:\n",
    "    return sum(f for f in fibonacci_generator(n))\n",
    "\n",
    "print(fib_sum_2(2))"
   ]
  }
 ],
 "metadata": {
  "interpreter": {
   "hash": "d3732d19857c6671c2efe82d18154d5d292f1f377c5bc5796aa25030f4cbbe8b"
  },
  "kernelspec": {
   "display_name": "Python 3.9.10 64-bit (windows store)",
   "language": "python",
   "name": "python3"
  },
  "language_info": {
   "codemirror_mode": {
    "name": "ipython",
    "version": 3
   },
   "file_extension": ".py",
   "mimetype": "text/x-python",
   "name": "python",
   "nbconvert_exporter": "python",
   "pygments_lexer": "ipython3",
   "version": "3.9.10"
  },
  "orig_nbformat": 4
 },
 "nbformat": 4,
 "nbformat_minor": 2
}
